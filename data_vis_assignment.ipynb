{
 "cells": [
  {
   "cell_type": "code",
   "execution_count": 342,
   "metadata": {},
   "outputs": [],
   "source": [
    "import matplotlib.pyplot as plt\n",
    "import pandas as pd"
   ]
  },
  {
   "cell_type": "markdown",
   "metadata": {},
   "source": [
    "### Import Modules\n",
    "\n",
    "Matplotlib/Pyplot used for graphing functions\n",
    "\n",
    "Pandas used for CSV import\n"
   ]
  },
  {
   "cell_type": "code",
   "execution_count": 250,
   "metadata": {},
   "outputs": [],
   "source": [
    "## Building Pandas DF from CSV\n",
    "dataframe = pd.read_csv('data/ramen-ratings.csv',header=0)\n",
    "\n",
    "## Data Cleaning\n",
    "df = dataframe[dataframe['Stars'] != 'Unrated']\n",
    "df = df[df['Country'] != '']\n",
    "df = df.replace('United States','USA')            ## United States and USA are synonymous; unifying terms.\n",
    "df = df.replace('Holland','Netherlands')          ## Holland is a province of the Netherlands; unifying terms. \n",
    "df = df.replace('Sarawak','Malaysia')             ## Sarawak is a state within Malaysia; unifying terms.\n",
    "\n",
    "\n",
    "## Building a Top-Ten List\n",
    "df_top = df.fillna(0)\n",
    "df_top = df_top[df_top['Top Ten'] != 0]\n",
    "\n",
    "## Converting DF to Dict for application of different methods\n",
    "dictionary = df.to_dict('records')\n",
    "dict_top = df_top.to_dict('records')"
   ]
  },
  {
   "cell_type": "markdown",
   "metadata": {},
   "source": [
    "### Import and Clean the Data\n",
    "\n",
    "A dataframe is built from the CSV. \n",
    "\n",
    "This dataframe is then cleaned, removing instances where Star-Rating and Country are not provided. \n",
    "\n",
    "A datafram of all top-ten entries is generated for future use.\n",
    "\n",
    "The full dataframe and top-ten dataframe are converted to dict format, so both Pandas and vanilla methods can be used. "
   ]
  },
  {
   "cell_type": "code",
   "execution_count": 251,
   "metadata": {},
   "outputs": [
    {
     "name": "stdout",
     "output_type": "stream",
     "text": [
      "\n",
      "{'Review #': 2580, 'Brand': 'New Touch', 'Variety': \"T's Restaurant Tantanmen \", 'Style': 'Cup', 'Country': 'Japan', 'Stars': '3.75', 'Top Ten': nan}\n",
      "\n",
      "Review #                         2580\n",
      "Brand                       New Touch\n",
      "Variety     T's Restaurant Tantanmen \n",
      "Style                             Cup\n",
      "Country                         Japan\n",
      "Stars                            3.75\n",
      "Top Ten                           NaN\n",
      "Name: 0, dtype: object\n"
     ]
    }
   ],
   "source": [
    "print(f\"\\n{dictionary[0]}\\n\")\n",
    "print(df.iloc[0])"
   ]
  },
  {
   "cell_type": "markdown",
   "metadata": {},
   "source": [
    "##### Note: \n",
    "\n",
    "Both storage formats contain the same data. However, this data is displayed in different formats, and different methods are required to interact with them. "
   ]
  },
  {
   "cell_type": "code",
   "execution_count": 252,
   "metadata": {},
   "outputs": [],
   "source": [
    "high_star = []\n",
    "for item in dictionary:\n",
    "    if float(item['Stars']) >= 5:\n",
    "        high_star.append(item)\n",
    "\n",
    "low_star = []\n",
    "for item in dictionary:\n",
    "    if float(item['Stars']) <= .5:\n",
    "        low_star.append(item)"
   ]
  },
  {
   "cell_type": "markdown",
   "metadata": {},
   "source": [
    "### Building hi-lo star lists"
   ]
  },
  {
   "cell_type": "code",
   "execution_count": null,
   "metadata": {},
   "outputs": [],
   "source": [
    "star_nations = []\n",
    "all_nations = []\n",
    "for i in high_star:\n",
    "    star_nations.append(i['Country'])\n",
    "\n",
    "for i in dictionary:\n",
    "    all_nations.append(i['Country'])\n",
    "    \n",
    "print(set(all_nations))\n",
    "print(set(star_nations))"
   ]
  },
  {
   "cell_type": "markdown",
   "metadata": {},
   "source": [
    "### Building lists of nations with high star ratings; list of all nations"
   ]
  },
  {
   "cell_type": "code",
   "execution_count": 317,
   "metadata": {},
   "outputs": [],
   "source": [
    "nation_count = df['Country'].value_counts()"
   ]
  },
  {
   "cell_type": "markdown",
   "metadata": {},
   "source": [
    "### Defining Count of Nations\n",
    "\n",
    "This is used in the pie chart, where it ends up determining the bounds for each slice. "
   ]
  },
  {
   "cell_type": "code",
   "execution_count": null,
   "metadata": {},
   "outputs": [],
   "source": [
    "def simplify_pie_sizes(ls):\n",
    "    simplified = []\n",
    "    others = []\n",
    "    for i in ls:\n",
    "        if i >= 100:\n",
    "            simplified.append(i)\n",
    "        if i <= 99:\n",
    "            others.append(i)\n",
    "    simplified.append(sum(others))\n",
    "    return simplified\n",
    "\n",
    "def simplify_pie_labels(ls):\n",
    "    i = len(simplify_pie_sizes(list(nation_count)))\n",
    "    simplified = ls[:i-1]\n",
    "    simplified.append('Others')\n",
    "    return simplified"
   ]
  },
  {
   "cell_type": "markdown",
   "metadata": {},
   "source": [
    "### Defining 'simplified'\n",
    "\n",
    "These functions cut the pie chart down to size. \n",
    "\n",
    "The first function selects any count values above 100, then sums the remainder into a 'Other' bucket. \n",
    "\n",
    "The second function selects the corresponding nations to those values over 100, then inserts an 'Other' label for the remainder to fall under. "
   ]
  },
  {
   "cell_type": "code",
   "execution_count": null,
   "metadata": {},
   "outputs": [],
   "source": [
    "def make_autopct(values):\n",
    "    def my_autopct(pct):\n",
    "        total = sum(values)\n",
    "        val = int(round(pct*total/100.0))\n",
    "        return '({v:d})'.format(v=val)\n",
    "    return my_autopct\n",
    "\n",
    "title = {\n",
    "    'family': 'sans',\n",
    "    'color':  'black',\n",
    "    'weight': 'bold',\n",
    "    'size': 13,\n",
    "        }\n",
    "label = {\n",
    "    'family': 'sans',\n",
    "    'color':  'black',\n",
    "    'size': 8,\n",
    "        }\n",
    "colors = []"
   ]
  },
  {
   "cell_type": "markdown",
   "metadata": {},
   "source": [
    "### Pie Chart Helper Function & Formatting Dictionaries\n",
    "\n",
    "This function will be called to determine the autopct (number labelling) for the pie chart.\n",
    "\n",
    "The dictonaries contain text formatting arguments that will be passed into the title and labels to save space in the plot definition."
   ]
  },
  {
   "cell_type": "code",
   "execution_count": 345,
   "metadata": {},
   "outputs": [
    {
     "data": {
      "image/png": "[encoded data removed]",
      "text/plain": [
       "<Figure size 432x288 with 1 Axes>"
      ]
     },
     "metadata": {},
     "output_type": "display_data"
    }
   ],
   "source": [
    "## Defining the plot\n",
    "fig1, ax1 = plt.subplots()\n",
    "\n",
    "## Providing Data\n",
    "labels = simplify_pie_labels(list(nation_count.index.to_list()))              ## List of nation names. Matches to count.\n",
    "sizes = simplify_pie_sizes(list(nation_count))                                ## List of count of nation names. Governs pie width.\n",
    "explode = (0,0,0,0,0,0,.1,0,0,.1,0,0)                                         ## Malaysia and Singapore are outliers in terms of performance.\n",
    "\n",
    "## Spec build & Format\n",
    "\n",
    "ax1.pie(sizes, \n",
    "        labels=labels, \n",
    "        explode=explode, \n",
    "        textprops=label, \n",
    "        autopct=make_autopct(sizes),                                          ## Calling helper function for whole number slice labelling \n",
    "        startangle=0)\n",
    "ax1.axis('equal')\n",
    "ax1.set_title('Number of Items Reviewed per Nation', fontdict=title)\n",
    "\n",
    "## Under formatting\n",
    "fig1.set_facecolor('lightgrey')\n",
    "\n",
    "## Display\n",
    "plt.tight_layout()\n",
    "plt.show()"
   ]
  },
  {
   "cell_type": "markdown",
   "metadata": {},
   "source": [
    "## Baking a Pie\n",
    "\n",
    "The plot is defined. \n",
    "\n",
    "Data is provided, funneling through the simplification functions. \n",
    "\n",
    "Formatting is performed, labelling each slice with the number of items it represents. \n",
    "\n",
    "Nations with less than 100 items reviewed are placed in an 'Other' slice. "
   ]
  },
  {
   "cell_type": "markdown",
   "metadata": {},
   "source": [
    "Dictionary provides formatting data"
   ]
  },
  {
   "cell_type": "code",
   "execution_count": null,
   "metadata": {},
   "outputs": [],
   "source": []
  }
 ],
 "metadata": {
  "kernelspec": {
   "display_name": "data_vis",
   "language": "python",
   "name": "data_vis"
  },
  "language_info": {
   "codemirror_mode": {
    "name": "ipython",
    "version": 3
   },
   "file_extension": ".py",
   "mimetype": "text/x-python",
   "name": "python",
   "nbconvert_exporter": "python",
   "pygments_lexer": "ipython3",
   "version": "3.9.1"
  }
 },
 "nbformat": 4,
 "nbformat_minor": 4
}
