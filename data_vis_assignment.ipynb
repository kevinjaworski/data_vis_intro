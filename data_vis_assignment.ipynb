{
 "cells": [
  {
   "cell_type": "code",
   "execution_count": 273,
   "metadata": {},
   "outputs": [],
   "source": [
    "import matplotlib.pyplot as plt\n",
    "import pandas as pd\n",
    "import numpy as np"
   ]
  },
  {
   "cell_type": "markdown",
   "metadata": {},
   "source": [
    "### Import Modules\n",
    "\n",
    "Matplotlib/Pyplot used for graphing functions\n",
    "\n",
    "Pandas used for CSV import\n"
   ]
  },
  {
   "cell_type": "code",
   "execution_count": 184,
   "metadata": {},
   "outputs": [],
   "source": [
    "## Building Pandas DF from CSV\n",
    "dataframe = pd.read_csv('data/ramen-ratings.csv',header=0)\n",
    "\n",
    "## Data Cleaning\n",
    "df = dataframe[dataframe['Stars'] != 'Unrated']\n",
    "df = df[df['Country'] != '']\n",
    "df = df.replace('United States','USA')            ## United States and USA are synonymous; unifying terms.\n",
    "df = df.replace('Holland','Netherlands')          ## Holland is a province of the Netherlands; unifying terms. \n",
    "df = df.replace('Sarawak','Malaysia')             ## Sarawak is a state within Malaysia; unifying terms.\n",
    "\n",
    "\n",
    "## Building a Top-Ten List\n",
    "df_top = df.fillna(0)\n",
    "df_top = df_top[df_top['Top Ten'] != 0]\n",
    "\n",
    "## Converting DF to Dict for application of different methods\n",
    "dictionary = df.to_dict('records')\n",
    "dict_top = df_top.to_dict('records')"
   ]
  },
  {
   "cell_type": "markdown",
   "metadata": {},
   "source": [
    "### Import and Clean the Data\n",
    "\n",
    "A dataframe is built from the CSV. \n",
    "\n",
    "This dataframe is then cleaned, removing instances where Star-Rating and Country are not provided. \n",
    "\n",
    "A datafram of all top-ten entries is generated for future use.\n",
    "\n",
    "The full dataframe and top-ten dataframe are converted to dict format, so both Pandas and vanilla methods can be used. "
   ]
  },
  {
   "cell_type": "code",
   "execution_count": 185,
   "metadata": {},
   "outputs": [
    {
     "name": "stdout",
     "output_type": "stream",
     "text": [
      "\n",
      "{'Review #': 2580, 'Brand': 'New Touch', 'Variety': \"T's Restaurant Tantanmen \", 'Style': 'Cup', 'Country': 'Japan', 'Stars': '3.75', 'Top Ten': nan}\n",
      "\n",
      "Review #                         2580\n",
      "Brand                       New Touch\n",
      "Variety     T's Restaurant Tantanmen \n",
      "Style                             Cup\n",
      "Country                         Japan\n",
      "Stars                            3.75\n",
      "Top Ten                           NaN\n",
      "Name: 0, dtype: object\n"
     ]
    }
   ],
   "source": [
    "print(f\"\\n{dictionary[0]}\\n\")\n",
    "print(df.iloc[0])"
   ]
  },
  {
   "cell_type": "markdown",
   "metadata": {},
   "source": [
    "##### Note: \n",
    "\n",
    "Both storage formats contain the same data. However, this data is displayed in different formats, and different methods are required to interact with them. "
   ]
  },
  {
   "cell_type": "code",
   "execution_count": null,
   "metadata": {},
   "outputs": [],
   "source": []
  },
  {
   "cell_type": "markdown",
   "metadata": {},
   "source": [
    "### Building hi-lo star lists\n",
    "\n",
    "If a review's star rating is equal to the perfect score of 5 / 5, it is added to the High-Star list. This represents some of the best ramen available. \n",
    "\n",
    "If a review's star rating is less than .5 / 5, it is added to the Low-Star list. This represents some of the worst ramen available. "
   ]
  },
  {
   "cell_type": "markdown",
   "metadata": {},
   "source": [
    "### Building list of all nations"
   ]
  },
  {
   "cell_type": "code",
   "execution_count": 188,
   "metadata": {},
   "outputs": [
    {
     "name": "stdout",
     "output_type": "stream",
     "text": [
      "Japan          352\n",
      "USA            324\n",
      "South Korea    307\n",
      "Taiwan         224\n",
      "Thailand       191\n",
      "China          169\n",
      "Malaysia       158\n",
      "Hong Kong      137\n",
      "Indonesia      126\n",
      "Singapore      109\n",
      "Vietnam        108\n",
      "UK              69\n",
      "Philippines     47\n",
      "Canada          41\n",
      "India           31\n",
      "Germany         27\n",
      "Mexico          25\n",
      "Australia       22\n",
      "Netherlands     19\n",
      "Myanmar         14\n",
      "Nepal           14\n",
      "Hungary          9\n",
      "Pakistan         9\n",
      "Bangladesh       7\n",
      "Colombia         6\n",
      "Cambodia         5\n",
      "Brazil           5\n",
      "Poland           4\n",
      "Fiji             4\n",
      "Sweden           3\n",
      "Dubai            3\n",
      "Finland          3\n",
      "Ghana            2\n",
      "Estonia          2\n",
      "Nigeria          1\n",
      "Name: Country, dtype: int64\n"
     ]
    }
   ],
   "source": [
    "nation_count = df['Country'].value_counts()\n",
    "print(nation_count)"
   ]
  },
  {
   "cell_type": "markdown",
   "metadata": {},
   "source": [
    "### Defining Count of Nations\n",
    "\n",
    "This is used in the pie chart, where it ends up determining the bounds for each slice. "
   ]
  },
  {
   "cell_type": "code",
   "execution_count": 17,
   "metadata": {},
   "outputs": [],
   "source": [
    "def simplify_pie_sizes(ls):\n",
    "    simplified = []\n",
    "    others = []\n",
    "    for i in ls:\n",
    "        if i >= 100:\n",
    "            simplified.append(i)\n",
    "        if i <= 99:\n",
    "            others.append(i)\n",
    "    simplified.append(sum(others))\n",
    "    return simplified\n",
    "\n",
    "def simplify_pie_labels(ls):\n",
    "    i = len(simplify_pie_sizes(list(nation_count)))\n",
    "    simplified = ls[:i-1]\n",
    "    simplified.append('Others')\n",
    "    return simplified"
   ]
  },
  {
   "cell_type": "markdown",
   "metadata": {},
   "source": [
    "### Defining 'simplified'\n",
    "\n",
    "These functions cut the pie chart down to size. \n",
    "\n",
    "The first function selects any count values above 100, then sums the remainder into a 'Other' bucket. \n",
    "\n",
    "The second function selects the corresponding nations to those values over 100, then inserts an 'Other' label for the remainder to fall under. "
   ]
  },
  {
   "cell_type": "code",
   "execution_count": 18,
   "metadata": {},
   "outputs": [],
   "source": [
    "def make_autopct(values):\n",
    "    def my_autopct(pct):\n",
    "        total = sum(values)\n",
    "        val = int(round(pct*total/100.0))\n",
    "        return '({v:d})'.format(v=val)\n",
    "    return my_autopct\n",
    "\n",
    "title = {\n",
    "    'family': 'sans',\n",
    "    'color':  'black',\n",
    "    'weight': 'bold',\n",
    "    'size': 13,\n",
    "        }\n",
    "label = {\n",
    "    'family': 'sans',\n",
    "    'color':  'black',\n",
    "    'size': 8,\n",
    "        }\n",
    "colors = []"
   ]
  },
  {
   "cell_type": "markdown",
   "metadata": {},
   "source": [
    "### Pie Chart Helper Function & Formatting Dictionaries\n",
    "\n",
    "This function will be called to determine the autopct (number labelling) for the pie chart.\n",
    "\n",
    "The dictonaries contain text formatting arguments that will be passed into the title and labels to save space in the plot definition."
   ]
  },
  {
   "cell_type": "code",
   "execution_count": 19,
   "metadata": {},
   "outputs": [
    {
     "data": {
      "image/png": "[encoded data removed]",
      "text/plain": [
       "<Figure size 432x288 with 1 Axes>"
      ]
     },
     "metadata": {},
     "output_type": "display_data"
    }
   ],
   "source": [
    "## Defining the plot\n",
    "fig1, ax1 = plt.subplots()\n",
    "\n",
    "## Providing Data\n",
    "labels = simplify_pie_labels(list(nation_count.index.to_list()))              ## List of nation names. Matches to count.\n",
    "sizes = simplify_pie_sizes(list(nation_count))                                ## List of count of nation names. Governs pie width.\n",
    "explode = (0,0,0,0,0,0,.1,0,0,.1,0,0)                                         ## Malaysia and Singapore are outliers in terms of performance.\n",
    "\n",
    "## Spec build & Format\n",
    "\n",
    "ax1.pie(sizes, \n",
    "        labels=labels, \n",
    "        explode=explode, \n",
    "        textprops=label, \n",
    "        autopct=make_autopct(sizes),                                          ## Calling helper function for whole number slice labelling \n",
    "        startangle=0)\n",
    "ax1.axis('equal')\n",
    "ax1.set_title('Number of Items Reviewed per Nation', fontdict=title)\n",
    "\n",
    "## Under formatting\n",
    "fig1.set_facecolor('lightgrey')\n",
    "\n",
    "## Display\n",
    "plt.tight_layout()\n",
    "plt.show()"
   ]
  },
  {
   "cell_type": "markdown",
   "metadata": {},
   "source": [
    "## Baking a Pie\n",
    "\n",
    "The plot is defined. \n",
    "\n",
    "Data is provided, funneling through the simplification functions. \n",
    "\n",
    "Formatting is performed, labelling each slice with the number of items it represents. \n",
    "\n",
    "Nations with less than 100 items reviewed are placed in an 'Other' slice. "
   ]
  },
  {
   "cell_type": "markdown",
   "metadata": {},
   "source": [
    "## Up Next: Bar Graphs"
   ]
  },
  {
   "cell_type": "code",
   "execution_count": 342,
   "metadata": {},
   "outputs": [
    {
     "name": "stdout",
     "output_type": "stream",
     "text": [
      "['Japan', 'Malaysia', 'Taiwan', 'South Korea', 'Singapore', 'USA', 'Indonesia', 'Hong Kong', 'Thailand', 'China', 'UK', 'Myanmar', 'India', 'Cambodia', 'Canada', 'Philippines', 'Germany', 'Vietnam', 'Mexico', 'Australia', 'Brazil', 'Nepal']\n",
      "[352, 158, 224, 307, 109, 324, 126, 137, 191, 169, 69, 14, 31, 5, 41, 47, 27, 108, 25, 22, 5, 14]\n",
      "[74, 55, 48, 44, 36, 31, 23, 22, 19, 12, 4, 4, 2, 2, 2, 2, 1, 1, 1, 1, 1, 1]\n"
     ]
    }
   ],
   "source": [
    "## Generate a list of all 5 star reviews\n",
    "high_star = []\n",
    "for item in dictionary:\n",
    "    if float(item['Stars']) == 5:\n",
    "        high_star.append(item)\n",
    "        \n",
    "## Generate a list of all <.5 star reviews\n",
    "low_star = []\n",
    "for item in dictionary:\n",
    "    if float(item['Stars']) <= .5:\n",
    "        low_star.append(item)\n",
    "\n",
    "## Generate a list of all nations with items reviewed.\n",
    "all_nations = []\n",
    "for i in dictionary:\n",
    "    if i['Country'] not in all_nations:\n",
    "        all_nations.append(i['Country'])\n",
    "        \n",
    "## Generate a list of all nations with items with 5 star reviews. \n",
    "star_nations = []\n",
    "for i in high_star:\n",
    "    if i['Country'] not in star_nations:\n",
    "        star_nations.append(i['Country'])\n",
    "\n",
    "\"\"\" \n",
    "Generates paired exclusive lists: \n",
    "Nations with 5 star reviews sorted by number of 5 star reviews. \n",
    "Corresponding number of 5 star reviews. \n",
    "Corresponding total number of reviews.\n",
    "\"\"\"\n",
    "def paired_list_gen():\n",
    "    hi_star_df = pd.DataFrame(high_star, columns=['Country'])\n",
    "    hi_star_countries_full = hi_star_df['Country'].to_list()\n",
    "    hi_star_countries_values = hi_star_df['Country'].value_counts().to_list()\n",
    "    hi_star_countries_sorted = []\n",
    "\n",
    "    for i in list(sorted(hi_star_countries_full,key=hi_star_countries_full.count,reverse=True)):\n",
    "        if i not in hi_star_countries_sorted:\n",
    "            hi_star_countries_sorted.append(i)\n",
    "    \n",
    "    return hi_star_countries_sorted,hi_star_countries_values\n",
    "paired_list_gen()\n",
    "\n",
    "\n",
    "df2 = pd.DataFrame(\n",
    "        {'Country': list(nation_count.index.to_list()),\n",
    "         'FCount': nation_count.to_list()}\n",
    "        )\n",
    "## Overcomplicated way to generate the corresponding total because my brain is too smooth to think of a way to do it properly\n",
    "def hi_totals():\n",
    "    split = df2.to_dict('split')\n",
    "    split_list = split['data']\n",
    "    split_nat = []\n",
    "    split_val = []\n",
    "    for i in split_list:\n",
    "        if i[0] in hi_star_countries_sorted:\n",
    "                split_nat.append(i[0])\n",
    "                split_val.append(i[1])\n",
    "        res = {split_nat[i]: split_val[i] for i in range(len(split_nat))}\n",
    "\n",
    "    res = sorted(res.items(), key=lambda pair: hi_star_countries_sorted.index(pair[0]))\n",
    "    hi_star_countries_totals = []\n",
    "    for i in res:\n",
    "        hi_star_countries_totals.append(i[1])\n",
    "    return hi_star_countries_totals\n",
    "hi_totals()\n",
    "\n",
    "print(hi_star_countries_sorted)\n",
    "print(hi_star_countries_totals)\n",
    "print(hi_star_countries_values)"
   ]
  },
  {
   "cell_type": "markdown",
   "metadata": {},
   "source": [
    "## Determine the Values\n",
    "\n",
    "This section generates the initial data to be used in determining high and low performing nations. \n",
    "\n",
    "For this report's purposes, 'high performing' can be determined by an abnormally high percentage of 5 star reviews.\n",
    "\n",
    "For this report's purposes, 'low performing' can be identified by an abnormally low percentage of 5 star reviews, or an abnormally high percentage of <=.5 star reviews. "
   ]
  },
  {
   "cell_type": "code",
   "execution_count": 319,
   "metadata": {},
   "outputs": [
    {
     "data": {
      "image/png": "[encoded data removed]",
      "text/plain": [
       "<Figure size 432x288 with 2 Axes>"
      ]
     },
     "metadata": {
      "needs_background": "light"
     },
     "output_type": "display_data"
    }
   ],
   "source": [
    "x1 = hi_star_countries_sorted\n",
    "h1 = hi_star_countries_totals\n",
    "h2 = hi_star_countries_values\n",
    "\n",
    "fig, axs = plt.subplots(2)\n",
    "axs[0].set_title('Count of 5 Star Ratings by Country')\n",
    "axs[0].bar(x1,h2)\n",
    "axs[0].tick_params(labelrotation=90)\n",
    "axs[0].get_xaxis().set_visible(False)\n",
    "\n",
    "axs[1].set_title('Count of Reviews by Country')\n",
    "axs[1].bar(x1,h1)\n",
    "axs[1].tick_params(labelrotation=90)\n",
    "\n",
    "plt.show()"
   ]
  },
  {
   "cell_type": "markdown",
   "metadata": {},
   "source": [
    "## Setting the Bar\n",
    "\n",
    "This graph displays the number of 5 star reviews by country. \n",
    "\n",
    "Below is displayed the total number of reviews for each country. \n",
    "\n",
    "However, this data can be displayed in a number of different ways."
   ]
  },
  {
   "cell_type": "code",
   "execution_count": 384,
   "metadata": {},
   "outputs": [
    {
     "data": {
      "image/png": "[encoded data removed]",
      "text/plain": [
       "<Figure size 432x288 with 1 Axes>"
      ]
     },
     "metadata": {
      "needs_background": "light"
     },
     "output_type": "display_data"
    }
   ],
   "source": [
    "x1 = hi_star_countries_sorted\n",
    "h1 = hi_star_countries_totals\n",
    "h2 = hi_star_countries_values\n",
    "\n",
    "fig, bar1 = plt.subplots()\n",
    "\n",
    "# set width of bar\n",
    "barWidth = 0.25 \n",
    " \n",
    "# Set position of bar on X axis\n",
    "r1 = np.arange(len(h2))\n",
    "r2 = [x + barWidth for x in r1]\n",
    "\n",
    " \n",
    "# Make the plot\n",
    "bar1.bar(r1, h2, color='blue', width=barWidth, edgecolor='white', label='5 Star Reviews')\n",
    "bar1.bar(r2, h1, color='red', width=barWidth, edgecolor='white', label='All Reviews')\n",
    "\n",
    "\n",
    "percentiles = [(i*100 / j*10) for i, j in zip(h2, h1)] \n",
    "\n",
    "bar1.plot(x1,percentiles,ds='steps-mid',c='Green')\n",
    "bar1.tick_params(labelrotation=90)\n",
    "\n",
    "# Add xticks on the middle of the group bars\n",
    "bar1.tick_params(labelrotation=90)\n",
    "\n",
    "# Create legend & Show graphic\n",
    "fig.legend()\n",
    "plt.show()\n"
   ]
  },
  {
   "cell_type": "markdown",
   "metadata": {},
   "source": [
    "## Raising the Bar\n",
    "\n",
    "A simpler view displays how each country performs. \n",
    "\n",
    "Red values display the total number of reviews per country, an approximation of the number of offerings available.\n",
    "\n",
    "Blue values display the number of 5 star reviews per country, an approximation of performance. \n",
    "\n",
    "The green line displays the percentage of 5 star reviews to all reviews, a measure of over/under-performance. This can help to identify instances where countries perform abnormally well: \n",
    "\n",
    "Abnormally well performing nations include Malaysia, Singapore, Myanmar. (Low sample size in Cambodia and Brazil must be taken into account).\n",
    "\n",
    "Abnormally poor performing nations include the United States and Vietnam. "
   ]
  },
  {
   "cell_type": "code",
   "execution_count": null,
   "metadata": {},
   "outputs": [],
   "source": []
  },
  {
   "cell_type": "markdown",
   "metadata": {},
   "source": [
    "\n"
   ]
  },
  {
   "cell_type": "code",
   "execution_count": 346,
   "metadata": {},
   "outputs": [
    {
     "name": "stdout",
     "output_type": "stream",
     "text": [
      "[('Japan', 352, 74), ('Malaysia', 158, 55), ('Taiwan', 224, 48), ('South Korea', 307, 44), ('Singapore', 109, 36), ('USA', 324, 31), ('Indonesia', 126, 23), ('Hong Kong', 137, 22), ('Thailand', 191, 19), ('China', 169, 12), ('UK', 69, 4), ('Myanmar', 14, 4), ('India', 31, 2), ('Cambodia', 5, 2), ('Canada', 41, 2), ('Philippines', 47, 2), ('Germany', 27, 1), ('Vietnam', 108, 1), ('Mexico', 25, 1), ('Australia', 22, 1), ('Brazil', 5, 1), ('Nepal', 14, 1)]\n"
     ]
    }
   ],
   "source": [
    "kappa = zip(x1,h1,h2)\n",
    "\n",
    "print(list(kappa))"
   ]
  }
 ],
 "metadata": {
  "kernelspec": {
   "display_name": "data_vis",
   "language": "python",
   "name": "data_vis"
  },
  "language_info": {
   "codemirror_mode": {
    "name": "ipython",
    "version": 3
   },
   "file_extension": ".py",
   "mimetype": "text/x-python",
   "name": "python",
   "nbconvert_exporter": "python",
   "pygments_lexer": "ipython3",
   "version": "3.9.1"
  }
 },
 "nbformat": 4,
 "nbformat_minor": 4
}
